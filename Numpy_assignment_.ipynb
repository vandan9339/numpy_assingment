{
  "nbformat": 4,
  "nbformat_minor": 0,
  "metadata": {
    "colab": {
      "provenance": []
    },
    "kernelspec": {
      "name": "python3",
      "display_name": "Python 3"
    },
    "language_info": {
      "name": "python"
    }
  },
  "cells": [
    {
      "cell_type": "markdown",
      "source": [
        "# Theory Questions"
      ],
      "metadata": {
        "id": "RCjNTDDgnyeo"
      }
    },
    {
      "cell_type": "markdown",
      "source": [
        "***1. Explain the purpose and advantages of NumPy in scientific computing and data analysis. How does it\n",
        "enhance Python's capabilities for numerical operations?***\n",
        "\n",
        "Ans. NumPy (Numerical Python) is a library that adds support for large, multi-dimensional arrays and matrices, along with a wide range of high-performance mathematical functions to operate on them. Its purpose is to provide an efficient and flexible way to perform numerical computations, making it a fundamental package for scientific computing and data analysis in Python.\n",
        "\n",
        "Here are some advantages of numpy\n",
        "1. Efficient array operations: NumPy's array-based computations are much faster than Python's built-in lists.\n",
        "2. Vectorized operations: Perform operations on entire arrays at once, reducing loops and improving performance.\n",
        "3. Multi-dimensional arrays: Easily work with 2D, 3D, and higher-dimensional data.\n",
        "4. Matrix operations: Supports advanced linear algebra functions, like matrix multiplication and decomposition.\n",
        "5. Random number generation: High-quality random number generators for simulations and modeling.\n",
        "\n",
        "Enhancing Python's capabilities:\n",
        "\n",
        "1. Speed: NumPy's optimized C code accelerates numerical computations.\n",
        "2. Convenience: Simplifies array and matrix operations, reducing code complexity.\n",
        "3. Flexibility: Supports various data types, including integers, floats, and complex numbers.\n",
        "4. Advanced functions: Provides specialized functions for signal processing, statistics, and more.\n",
        "\n"
      ],
      "metadata": {
        "id": "HUuu0yhNnQQy"
      }
    },
    {
      "cell_type": "markdown",
      "source": [
        "***2. Compare and contrast np.mean() and np.average() functions in NumPy. When would you use one over the\n",
        "other?***\n",
        "\n",
        "\n",
        "Ans. NumPy provides two functions for calculating the average of an array: np.mean() and np.average(). While they seem similar, there are key differences:\n",
        "\n",
        "np.mean()\n",
        "\n",
        "- Calculates the arithmetic mean (average) of the array elements.\n",
        "- Ignores NaN (Not a Number) values.\n",
        "- Weights all elements equally.\n",
        "\n",
        "Example"
      ],
      "metadata": {
        "id": "cV0Xw3PFnQXr"
      }
    },
    {
      "cell_type": "code",
      "execution_count": null,
      "metadata": {
        "colab": {
          "base_uri": "https://localhost:8080/"
        },
        "id": "ZPyi10YPmn7C",
        "outputId": "b9d5c0cd-eed3-4771-bc92-47ff0b03b192"
      },
      "outputs": [
        {
          "output_type": "stream",
          "name": "stdout",
          "text": [
            "3.0\n"
          ]
        }
      ],
      "source": [
        "arr = np.array([1, 2, 3, 4, 5])\n",
        "\n",
        "mean_value = np.mean(arr)\n",
        "print(mean_value)"
      ]
    },
    {
      "cell_type": "markdown",
      "source": [
        "np.average()\n",
        "\n",
        "- Calculates the weighted average of the array elements.\n",
        "- Allows specifying weights for each element.\n",
        "- Supports axis specification for multi-dimensional arrays.\n",
        "- Raises a warning if NaN values are present (unless weights are provided).\n",
        "\n",
        "Example:\n",
        "\n"
      ],
      "metadata": {
        "id": "qb_UEgMepF2-"
      }
    },
    {
      "cell_type": "code",
      "source": [
        "arr = np.array([1, 2, 3, 4, 5])\n",
        "weights = np.array([0.1, 0.2, 0.3, 0.2, 0.2])\n",
        "\n",
        "avg_value = np.average(arr, weights=weights)\n",
        "print(avg_value)"
      ],
      "metadata": {
        "colab": {
          "base_uri": "https://localhost:8080/"
        },
        "id": "nWi1dsbBo_uC",
        "outputId": "9f9b9ff9-cc53-4bd8-d76a-c4ea4964fbdb"
      },
      "execution_count": null,
      "outputs": [
        {
          "output_type": "stream",
          "name": "stdout",
          "text": [
            "3.2\n"
          ]
        }
      ]
    },
    {
      "cell_type": "markdown",
      "source": [
        "Choose np.mean() when:\n",
        "\n",
        "- You need a simple arithmetic mean.\n",
        "- NaN values are present and should be ignored.\n",
        "\n",
        "Choose np.average() when:\n",
        "\n",
        "- You need a weighted average.\n",
        "- You want to specify axis for multi-dimensional arrays.\n",
        "- You want to handle NaN values explicitly.\n"
      ],
      "metadata": {
        "id": "ozdQ3AL0pYZp"
      }
    },
    {
      "cell_type": "markdown",
      "source": [
        "***3. Describe the methods for reversing a NumPy array along different axes. Provide examples for 1D and 2D\n",
        "arrays.***\n",
        "\n",
        "Ans. NumPy provides several methods to reverse an array along different axes:\n",
        "\n",
        "1. np.flip(): Reverses the order of elements along the specified axis.\n",
        "\n",
        "2. np.flipud(): Reverses the order of elements along the vertical axis (axis 0).\n",
        "\n",
        "3. np.fliplr(): Reverses the order of elements along the horizontal axis (axis 1).\n",
        "\n",
        "4. arr[::-1]: Reverses the entire array using slicing.\n",
        "\n",
        "Examples:\n",
        "\n",
        "1D Array:\n",
        "\n",
        "arr = np.array([1, 2, 3, 4, 5])\n",
        "\n",
        "- np.flip(arr): [5, 4, 3, 2, 1]\n",
        "- arr[::-1]: [5, 4, 3, 2, 1]\n",
        "\n"
      ],
      "metadata": {
        "id": "o-9GlrQJpeOi"
      }
    },
    {
      "cell_type": "code",
      "source": [
        "arr = np.array([1, 2, 3, 4, 5])\n",
        "np.flip(arr)\n"
      ],
      "metadata": {
        "id": "I3oQiHQxpU2-",
        "colab": {
          "base_uri": "https://localhost:8080/"
        },
        "outputId": "c29627d5-f98c-46bd-8fee-482e17867fa1"
      },
      "execution_count": null,
      "outputs": [
        {
          "output_type": "execute_result",
          "data": {
            "text/plain": [
              "array([5, 4, 3, 2, 1])"
            ]
          },
          "metadata": {},
          "execution_count": 2
        }
      ]
    },
    {
      "cell_type": "code",
      "source": [
        "arr = np.array([1, 2, 3, 4, 5])\n",
        "arr[::-1]\n"
      ],
      "metadata": {
        "colab": {
          "base_uri": "https://localhost:8080/"
        },
        "id": "N5wS5WunXoY5",
        "outputId": "5aabdf93-44ec-44f3-c621-9add12970b25"
      },
      "execution_count": null,
      "outputs": [
        {
          "output_type": "execute_result",
          "data": {
            "text/plain": [
              "array([5, 4, 3, 2, 1])"
            ]
          },
          "metadata": {},
          "execution_count": 3
        }
      ]
    },
    {
      "cell_type": "markdown",
      "source": [
        "2D Array:\n"
      ],
      "metadata": {
        "id": "Arxn7ivCX_jD"
      }
    },
    {
      "cell_type": "code",
      "source": [
        "arr = np.array([[1, 2, 3], [4, 5, 6], [7, 8, 9]])\n",
        "arr"
      ],
      "metadata": {
        "colab": {
          "base_uri": "https://localhost:8080/"
        },
        "id": "qDR721ZIX5U9",
        "outputId": "77230062-b1b6-451c-c864-b50880d2a954"
      },
      "execution_count": null,
      "outputs": [
        {
          "output_type": "execute_result",
          "data": {
            "text/plain": [
              "array([[1, 2, 3],\n",
              "       [4, 5, 6],\n",
              "       [7, 8, 9]])"
            ]
          },
          "metadata": {},
          "execution_count": 42
        }
      ]
    },
    {
      "cell_type": "code",
      "source": [
        "np.fliplr(arr)"
      ],
      "metadata": {
        "colab": {
          "base_uri": "https://localhost:8080/"
        },
        "id": "FfB59FmCYT4C",
        "outputId": "0ea67ceb-d7c7-411a-9069-c2d7ad400075"
      },
      "execution_count": null,
      "outputs": [
        {
          "output_type": "execute_result",
          "data": {
            "text/plain": [
              "array([[3, 2, 1],\n",
              "       [6, 5, 4],\n",
              "       [9, 8, 7]])"
            ]
          },
          "metadata": {},
          "execution_count": 7
        }
      ]
    },
    {
      "cell_type": "code",
      "source": [
        "np.flipud(arr)"
      ],
      "metadata": {
        "colab": {
          "base_uri": "https://localhost:8080/"
        },
        "id": "u0lcSZuWoBAi",
        "outputId": "fa1676ba-4530-48f7-f2d7-b1cbfa147ede"
      },
      "execution_count": null,
      "outputs": [
        {
          "output_type": "execute_result",
          "data": {
            "text/plain": [
              "array([[7, 8, 9],\n",
              "       [4, 5, 6],\n",
              "       [1, 2, 3]])"
            ]
          },
          "metadata": {},
          "execution_count": 43
        }
      ]
    },
    {
      "cell_type": "code",
      "source": [
        "arr[::-1]"
      ],
      "metadata": {
        "colab": {
          "base_uri": "https://localhost:8080/"
        },
        "id": "1XcrilkQYacU",
        "outputId": "64407604-e7cd-4c06-aed1-46fa585a3b07"
      },
      "execution_count": null,
      "outputs": [
        {
          "output_type": "execute_result",
          "data": {
            "text/plain": [
              "array([[7, 8, 9],\n",
              "       [4, 5, 6],\n",
              "       [1, 2, 3]])"
            ]
          },
          "metadata": {},
          "execution_count": 8
        }
      ]
    },
    {
      "cell_type": "markdown",
      "source": [
        "***4. How can you determine the data type of elements in a NumPy array? Discuss the importance of data types\n",
        "in memory management and performance***"
      ],
      "metadata": {
        "id": "bngtFpNFYjNJ"
      }
    },
    {
      "cell_type": "markdown",
      "source": [
        "Ans. To determine the data type of elements in a NumPy array, use the dtype attribute:"
      ],
      "metadata": {
        "id": "KdUV6WH1ZWVG"
      }
    },
    {
      "cell_type": "code",
      "source": [
        "arr = np.array([1, 2, 3, 4, 5])\n",
        "print(arr.dtype)"
      ],
      "metadata": {
        "colab": {
          "base_uri": "https://localhost:8080/"
        },
        "id": "UhHxskknYg0x",
        "outputId": "08f994e3-387b-4213-ee65-b8a82962d1da"
      },
      "execution_count": null,
      "outputs": [
        {
          "output_type": "stream",
          "name": "stdout",
          "text": [
            "int64\n"
          ]
        }
      ]
    },
    {
      "cell_type": "markdown",
      "source": [
        "Data types are crucial in memory management and performance:\n",
        "\n",
        "\n",
        "\n",
        "1. Memory Usage: Different data types occupy varying amounts of memory. Choosing the appropriate data type can significantly reduce memory usage.\n",
        "\n",
        "\n",
        "\n",
        "1. Performance: Operations on arrays with smaller data types are generally faster than those with larger data types.\n",
        "\n"
      ],
      "metadata": {
        "id": "uhtK6rjQZh3E"
      }
    },
    {
      "cell_type": "markdown",
      "source": [
        "***5. Define ndarrays in NumPy and explain their key features. How do they differ from standard Python lists?***"
      ],
      "metadata": {
        "id": "eOfznRtLZ9vk"
      }
    },
    {
      "cell_type": "markdown",
      "source": [
        "Ans. ndarrays (n-dimensional arrays) are the core data structure in NumPy, providing efficient storage and operations for multi-dimensional data.\n",
        "\n",
        "Key Features:\n",
        "\n",
        "1. Multi-dimensional: ndarrays can have any number of dimensions (axes).\n",
        "2. Homogeneous: All elements must be of the same data type.\n",
        "3. Fixed-size: ndarrays have a fixed shape and size.\n",
        "4. Fast operations: ndarrays support vectorized operations, making them much faster than standard Python lists.\n",
        "5. Memory-efficient: ndarrays store data in a contiguous block of memory.\n",
        "\n",
        "Differences from standard Python lists:\n",
        "\n",
        "1. Data type: ndarrays require a uniform data type, while lists can store mixed types.\n",
        "2. Memory layout: ndarrays store data contiguously, while lists store pointers to individual elements.\n",
        "3. Operations: ndarrays support vectorized operations, while lists require loops or list comprehensions.\n",
        "4. Speed: ndarrays are significantly faster for numerical computations.\n",
        "\n",
        "Let's see examples of ndarray vs list."
      ],
      "metadata": {
        "id": "atEmw98Uai9r"
      }
    },
    {
      "cell_type": "code",
      "source": [
        "my_list = [1, 2, 3, 4, 5]\n",
        "\n",
        "my_arr = np.array([1, 2, 3, 4, 5])"
      ],
      "metadata": {
        "id": "z2Q37k9fZeAe"
      },
      "execution_count": null,
      "outputs": []
    },
    {
      "cell_type": "code",
      "source": [
        "my_list"
      ],
      "metadata": {
        "colab": {
          "base_uri": "https://localhost:8080/"
        },
        "id": "5A7IhcQhbAR_",
        "outputId": "7f114d0e-2e1c-4d0c-aba3-9664c7938b4f"
      },
      "execution_count": null,
      "outputs": [
        {
          "output_type": "execute_result",
          "data": {
            "text/plain": [
              "[1, 2, 3, 4, 5]"
            ]
          },
          "metadata": {},
          "execution_count": 12
        }
      ]
    },
    {
      "cell_type": "code",
      "source": [
        "my_arr"
      ],
      "metadata": {
        "colab": {
          "base_uri": "https://localhost:8080/"
        },
        "id": "hCmJO8NgbCVq",
        "outputId": "a6670da6-a24a-4789-f31b-81e999f37ed9"
      },
      "execution_count": null,
      "outputs": [
        {
          "output_type": "execute_result",
          "data": {
            "text/plain": [
              "array([1, 2, 3, 4, 5])"
            ]
          },
          "metadata": {},
          "execution_count": 13
        }
      ]
    },
    {
      "cell_type": "code",
      "source": [
        "#let's do multiplication\n",
        "my_arr*2 # in ndarray there is vactorisation for doing computation that makes it easy, fast and hasle free"
      ],
      "metadata": {
        "colab": {
          "base_uri": "https://localhost:8080/"
        },
        "id": "KEdGG2jxbDx1",
        "outputId": "c7987bad-ec7f-4e30-b58c-f616b60a2d14"
      },
      "execution_count": null,
      "outputs": [
        {
          "output_type": "execute_result",
          "data": {
            "text/plain": [
              "array([ 2,  4,  6,  8, 10])"
            ]
          },
          "metadata": {},
          "execution_count": 16
        }
      ]
    },
    {
      "cell_type": "code",
      "source": [
        "#in list we have to use iteration\n",
        "list1 = []\n",
        "for i in my_list:\n",
        "  list1.append(i*2)\n",
        "list1"
      ],
      "metadata": {
        "colab": {
          "base_uri": "https://localhost:8080/"
        },
        "id": "Lskq-eAKbNKL",
        "outputId": "89607b6f-4bce-487d-b52a-b2c15e532576"
      },
      "execution_count": null,
      "outputs": [
        {
          "output_type": "execute_result",
          "data": {
            "text/plain": [
              "[2, 4, 6, 8, 10]"
            ]
          },
          "metadata": {},
          "execution_count": 18
        }
      ]
    },
    {
      "cell_type": "markdown",
      "source": [
        "***6. Analyze the performance benefits of NumPy arrays over Python lists for large-scale numerical operations.***"
      ],
      "metadata": {
        "id": "kLkf-OZTb7-a"
      }
    },
    {
      "cell_type": "markdown",
      "source": [
        "Ans. NumPy arrays offer significant performance benefits over Python lists for large-scale numerical operations due to:\n",
        "\n",
        "1. Vectorized Operations: NumPy arrays enable vectorized operations, allowing operations to be applied to entire arrays at once, reducing loops and improving performance.\n",
        "\n",
        "2. Memory Efficiency: NumPy arrays store data in a contiguous block of memory, reducing memory allocation and deallocation overhead.\n",
        "\n",
        "3. Cache Locality: NumPy arrays optimize cache usage, minimizing memory access times.\n",
        "\n",
        "4. Compiled C Code: NumPy's core operations are implemented in compiled C code, providing a significant speed boost.\n",
        "\n",
        "5. Parallelization: NumPy arrays can leverage multi-core processors for parallelized operations.\n",
        "\n",
        "Benchmarking Example:\n",
        "\n",
        "\n",
        "\n",
        "\n"
      ],
      "metadata": {
        "id": "p-cIF6PbctrS"
      }
    },
    {
      "cell_type": "code",
      "source": [
        "import time\n",
        "# Large-scale numerical operation: Element-wise multiplication"
      ],
      "metadata": {
        "colab": {
          "base_uri": "https://localhost:8080/"
        },
        "id": "WDCVpMMHbnct",
        "outputId": "e1ec1361-a3c5-49e6-cea5-794291d49997"
      },
      "execution_count": null,
      "outputs": [
        {
          "output_type": "stream",
          "name": "stdout",
          "text": [
            "Python list time: 0.11126947402954102\n"
          ]
        }
      ]
    },
    {
      "cell_type": "code",
      "source": [
        "# Python list\n",
        "python_list = list(range(1000000))\n",
        "start_time = time.time()\n",
        "result_list = [x * 2 for x in python_list]\n",
        "end_time = time.time()\n",
        "print(\"Python list time:\", end_time - start_time)\n"
      ],
      "metadata": {
        "colab": {
          "base_uri": "https://localhost:8080/"
        },
        "id": "SrUqLf_CnIJC",
        "outputId": "8a13038d-674c-451f-e2f9-f3f3694ca0ff"
      },
      "execution_count": null,
      "outputs": [
        {
          "output_type": "stream",
          "name": "stdout",
          "text": [
            "Python list time: 0.10044169425964355\n"
          ]
        }
      ]
    },
    {
      "cell_type": "code",
      "source": [
        "# NumPy array\n",
        "numpy_array = np.arange(1000000)\n",
        "start_time = time.time()\n",
        "result_array = numpy_array * 2\n",
        "end_time = time.time()\n",
        "print(\"NumPy array time:\", end_time - start_time)"
      ],
      "metadata": {
        "colab": {
          "base_uri": "https://localhost:8080/"
        },
        "id": "E4MJJn0Xc7uK",
        "outputId": "cb80c098-1b74-4922-fa85-9d662fb352e2"
      },
      "execution_count": null,
      "outputs": [
        {
          "output_type": "stream",
          "name": "stdout",
          "text": [
            "NumPy array time: 0.01799631118774414\n"
          ]
        }
      ]
    },
    {
      "cell_type": "markdown",
      "source": [
        "Here we can clearly see that Numpy array is faster than python list."
      ],
      "metadata": {
        "id": "SomyrNEBdHy0"
      }
    },
    {
      "cell_type": "markdown",
      "source": [
        "***7. Compare vstack() and hstack() functions in NumPy. Provide examples demonstrating their usage and\n",
        "output.***"
      ],
      "metadata": {
        "id": "ND4elW1LdvyF"
      }
    },
    {
      "cell_type": "markdown",
      "source": [
        "vstack() and hstack() are NumPy functions used to stack arrays vertically and horizontally, respectively.\n",
        "\n",
        "vstack()\n",
        "\n",
        "- Stacks arrays vertically (row-wise).\n",
        "- Concatenates arrays along the vertical axis (axis 0).\n",
        "- Resulting array has the same number of columns as the input arrays.\n",
        "\n",
        "Example:\n",
        "\n",
        "\n",
        "\n",
        "\n",
        "\n"
      ],
      "metadata": {
        "id": "kC8dySKxdvAB"
      }
    },
    {
      "cell_type": "code",
      "source": [
        "arr1 = np.array([[1, 2], [3, 4]])\n",
        "arr2 = np.array([[5, 6], [7, 8]])\n",
        "np.vstack((arr1, arr2))"
      ],
      "metadata": {
        "colab": {
          "base_uri": "https://localhost:8080/"
        },
        "id": "B-LLS9I8c_Ii",
        "outputId": "67525150-0e03-45b6-da7d-afe7b7e31d72"
      },
      "execution_count": null,
      "outputs": [
        {
          "output_type": "execute_result",
          "data": {
            "text/plain": [
              "array([[1, 2],\n",
              "       [3, 4],\n",
              "       [5, 6],\n",
              "       [7, 8]])"
            ]
          },
          "metadata": {},
          "execution_count": 21
        }
      ]
    },
    {
      "cell_type": "markdown",
      "source": [
        "hstack()\n",
        "\n",
        "- Stacks arrays horizontally (column-wise).\n",
        "- Concatenates arrays along the horizontal axis (axis 1).\n",
        "- Resulting array has the same number of rows as the input arrays.\n",
        "\n",
        "Example:\n",
        "\n",
        "\n"
      ],
      "metadata": {
        "id": "yqeJLbJ6d51k"
      }
    },
    {
      "cell_type": "code",
      "source": [
        "arr1 = np.array([[1, 2], [3, 4]])\n",
        "arr2 = np.array([[5, 6], [7, 8]])\n",
        "np.hstack((arr1, arr2))"
      ],
      "metadata": {
        "colab": {
          "base_uri": "https://localhost:8080/"
        },
        "id": "54ACpd3gd4Js",
        "outputId": "4f319925-1363-4dce-90eb-f394385ddadc"
      },
      "execution_count": null,
      "outputs": [
        {
          "output_type": "execute_result",
          "data": {
            "text/plain": [
              "array([[1, 2, 5, 6],\n",
              "       [3, 4, 7, 8]])"
            ]
          },
          "metadata": {},
          "execution_count": 22
        }
      ]
    },
    {
      "cell_type": "markdown",
      "source": [
        "***8. Explain the differences between fliplr() and flipud() methods in NumPy, including their effects on various\n",
        "array dimensions.***"
      ],
      "metadata": {
        "id": "gS8irYL1ipDd"
      }
    },
    {
      "cell_type": "markdown",
      "source": [
        "Ans. fliplr() and flipud() are NumPy methods used to flip arrays horizontally and vertically, respectively.\n",
        "\n",
        "fliplr()\n",
        "\n",
        "- Flips the array horizontally (left-right).\n",
        "- Reverses the order of columns (axis 1).\n",
        "- Leaves rows (axis 0) unchanged.\n",
        "\n",
        "flipud()\n",
        "\n",
        "- Flips the array vertically (up-down).\n",
        "- Reverses the order of rows (axis 0).\n",
        "- Leaves columns (axis 1) unchanged.\n",
        "\n",
        "Effects on array dimensions:\n",
        "\n",
        "- Both fliplr() and flipud() reverse the order of elements doesn't shows error on 1D dimension because it works only when if m.ndim < 2.\n",
        "- 2D array:\n",
        "    - fliplr(): Reverses column order, leaving row order unchanged.\n",
        "    - flipud(): Reverses row order, leaving column order unchanged.\n",
        "- 3D array:\n",
        "    - fliplr(): Reverses column order (axis 1), leaving row (axis 0) and depth (axis 2) orders unchanged.\n",
        "    - flipud(): Reverses row order (axis 0), leaving column (axis 1) and depth (axis 2) orders unchanged.\n",
        "\n",
        "Examples:\n",
        "\n"
      ],
      "metadata": {
        "id": "bDzOeC0Ci69P"
      }
    },
    {
      "cell_type": "code",
      "source": [
        "# 1D array\n",
        "arr = np.array([1, 2, 3, 4, 5])\n",
        "\n",
        "print(np.fliplr(arr))\n",
        "print(np.flipud(arr))\n",
        "\n",
        "\n",
        "\n"
      ],
      "metadata": {
        "colab": {
          "base_uri": "https://localhost:8080/",
          "height": 332
        },
        "id": "Z54R5M6feEI2",
        "outputId": "a126cc6c-7e56-451a-a66c-3733873046fd"
      },
      "execution_count": null,
      "outputs": [
        {
          "output_type": "error",
          "ename": "ValueError",
          "evalue": "Input must be >= 2-d.",
          "traceback": [
            "\u001b[0;31m---------------------------------------------------------------------------\u001b[0m",
            "\u001b[0;31mValueError\u001b[0m                                Traceback (most recent call last)",
            "\u001b[0;32m<ipython-input-25-bfeb120988da>\u001b[0m in \u001b[0;36m<cell line: 3>\u001b[0;34m()\u001b[0m\n\u001b[1;32m      1\u001b[0m \u001b[0;31m# 1D array\u001b[0m\u001b[0;34m\u001b[0m\u001b[0;34m\u001b[0m\u001b[0m\n\u001b[1;32m      2\u001b[0m \u001b[0marr\u001b[0m \u001b[0;34m=\u001b[0m \u001b[0mnp\u001b[0m\u001b[0;34m.\u001b[0m\u001b[0marray\u001b[0m\u001b[0;34m(\u001b[0m\u001b[0;34m[\u001b[0m\u001b[0;36m1\u001b[0m\u001b[0;34m,\u001b[0m \u001b[0;36m2\u001b[0m\u001b[0;34m,\u001b[0m \u001b[0;36m3\u001b[0m\u001b[0;34m,\u001b[0m \u001b[0;36m4\u001b[0m\u001b[0;34m,\u001b[0m \u001b[0;36m5\u001b[0m\u001b[0;34m]\u001b[0m\u001b[0;34m)\u001b[0m\u001b[0;34m\u001b[0m\u001b[0;34m\u001b[0m\u001b[0m\n\u001b[0;32m----> 3\u001b[0;31m \u001b[0mprint\u001b[0m\u001b[0;34m(\u001b[0m\u001b[0mnp\u001b[0m\u001b[0;34m.\u001b[0m\u001b[0mfliplr\u001b[0m\u001b[0;34m(\u001b[0m\u001b[0marr\u001b[0m\u001b[0;34m)\u001b[0m\u001b[0;34m)\u001b[0m\u001b[0;34m\u001b[0m\u001b[0;34m\u001b[0m\u001b[0m\n\u001b[0m\u001b[1;32m      4\u001b[0m \u001b[0mprint\u001b[0m\u001b[0;34m(\u001b[0m\u001b[0mnp\u001b[0m\u001b[0;34m.\u001b[0m\u001b[0mflipud\u001b[0m\u001b[0;34m(\u001b[0m\u001b[0marr\u001b[0m\u001b[0;34m)\u001b[0m\u001b[0;34m)\u001b[0m\u001b[0;34m\u001b[0m\u001b[0;34m\u001b[0m\u001b[0m\n\u001b[1;32m      5\u001b[0m \u001b[0;34m\u001b[0m\u001b[0m\n",
            "\u001b[0;32m/usr/local/lib/python3.10/dist-packages/numpy/lib/twodim_base.py\u001b[0m in \u001b[0;36mfliplr\u001b[0;34m(m)\u001b[0m\n\u001b[1;32m     96\u001b[0m     \u001b[0mm\u001b[0m \u001b[0;34m=\u001b[0m \u001b[0masanyarray\u001b[0m\u001b[0;34m(\u001b[0m\u001b[0mm\u001b[0m\u001b[0;34m)\u001b[0m\u001b[0;34m\u001b[0m\u001b[0;34m\u001b[0m\u001b[0m\n\u001b[1;32m     97\u001b[0m     \u001b[0;32mif\u001b[0m \u001b[0mm\u001b[0m\u001b[0;34m.\u001b[0m\u001b[0mndim\u001b[0m \u001b[0;34m<\u001b[0m \u001b[0;36m2\u001b[0m\u001b[0;34m:\u001b[0m\u001b[0;34m\u001b[0m\u001b[0;34m\u001b[0m\u001b[0m\n\u001b[0;32m---> 98\u001b[0;31m         \u001b[0;32mraise\u001b[0m \u001b[0mValueError\u001b[0m\u001b[0;34m(\u001b[0m\u001b[0;34m\"Input must be >= 2-d.\"\u001b[0m\u001b[0;34m)\u001b[0m\u001b[0;34m\u001b[0m\u001b[0;34m\u001b[0m\u001b[0m\n\u001b[0m\u001b[1;32m     99\u001b[0m     \u001b[0;32mreturn\u001b[0m \u001b[0mm\u001b[0m\u001b[0;34m[\u001b[0m\u001b[0;34m:\u001b[0m\u001b[0;34m,\u001b[0m \u001b[0;34m:\u001b[0m\u001b[0;34m:\u001b[0m\u001b[0;34m-\u001b[0m\u001b[0;36m1\u001b[0m\u001b[0;34m]\u001b[0m\u001b[0;34m\u001b[0m\u001b[0;34m\u001b[0m\u001b[0m\n\u001b[1;32m    100\u001b[0m \u001b[0;34m\u001b[0m\u001b[0m\n",
            "\u001b[0;31mValueError\u001b[0m: Input must be >= 2-d."
          ]
        }
      ]
    },
    {
      "cell_type": "code",
      "source": [
        "# 2D array\n",
        "arr = np.array([[1, 2], [3, 4]])\n",
        "arr\n"
      ],
      "metadata": {
        "colab": {
          "base_uri": "https://localhost:8080/"
        },
        "id": "wXMMDLD7jj8b",
        "outputId": "da8eef73-84a9-47ec-b1c7-9e6450bbd38d"
      },
      "execution_count": null,
      "outputs": [
        {
          "output_type": "execute_result",
          "data": {
            "text/plain": [
              "array([[1, 2],\n",
              "       [3, 4]])"
            ]
          },
          "metadata": {},
          "execution_count": 27
        }
      ]
    },
    {
      "cell_type": "code",
      "source": [
        "np.fliplr(arr)"
      ],
      "metadata": {
        "colab": {
          "base_uri": "https://localhost:8080/"
        },
        "id": "Cjy_k9w7kgia",
        "outputId": "eff22109-ba11-48a4-a9a6-1e9a17b0b967"
      },
      "execution_count": null,
      "outputs": [
        {
          "output_type": "execute_result",
          "data": {
            "text/plain": [
              "array([[2, 1],\n",
              "       [4, 3]])"
            ]
          },
          "metadata": {},
          "execution_count": 28
        }
      ]
    },
    {
      "cell_type": "code",
      "source": [
        "np.flipud(arr)"
      ],
      "metadata": {
        "colab": {
          "base_uri": "https://localhost:8080/"
        },
        "id": "ALOqRECAkoz4",
        "outputId": "d69033d4-cca8-415b-9a26-9a6d166a8ecb"
      },
      "execution_count": null,
      "outputs": [
        {
          "output_type": "execute_result",
          "data": {
            "text/plain": [
              "array([[3, 4],\n",
              "       [1, 2]])"
            ]
          },
          "metadata": {},
          "execution_count": 29
        }
      ]
    },
    {
      "cell_type": "code",
      "source": [
        "# 3D array\n",
        "arr = np.array([[[1, 2], [3, 4]], [[5, 6], [7, 8]]])\n",
        "arr"
      ],
      "metadata": {
        "colab": {
          "base_uri": "https://localhost:8080/"
        },
        "id": "uCo8W634ktpa",
        "outputId": "d5b3ba86-8875-43dd-d810-a6e7725c3354"
      },
      "execution_count": null,
      "outputs": [
        {
          "output_type": "execute_result",
          "data": {
            "text/plain": [
              "array([[[1, 2],\n",
              "        [3, 4]],\n",
              "\n",
              "       [[5, 6],\n",
              "        [7, 8]]])"
            ]
          },
          "metadata": {},
          "execution_count": 30
        }
      ]
    },
    {
      "cell_type": "code",
      "source": [
        "np.fliplr(arr)"
      ],
      "metadata": {
        "colab": {
          "base_uri": "https://localhost:8080/"
        },
        "id": "HtVNAipDk71q",
        "outputId": "5f64d348-9846-4b53-af19-402bef5c8d1f"
      },
      "execution_count": null,
      "outputs": [
        {
          "output_type": "execute_result",
          "data": {
            "text/plain": [
              "array([[[3, 4],\n",
              "        [1, 2]],\n",
              "\n",
              "       [[7, 8],\n",
              "        [5, 6]]])"
            ]
          },
          "metadata": {},
          "execution_count": 31
        }
      ]
    },
    {
      "cell_type": "code",
      "source": [
        "np.flipud(arr)"
      ],
      "metadata": {
        "colab": {
          "base_uri": "https://localhost:8080/"
        },
        "id": "fpctLGlOk_qD",
        "outputId": "81677748-55fb-40cc-9967-2bdaf2a67879"
      },
      "execution_count": null,
      "outputs": [
        {
          "output_type": "execute_result",
          "data": {
            "text/plain": [
              "array([[[5, 6],\n",
              "        [7, 8]],\n",
              "\n",
              "       [[1, 2],\n",
              "        [3, 4]]])"
            ]
          },
          "metadata": {},
          "execution_count": 32
        }
      ]
    },
    {
      "cell_type": "markdown",
      "source": [
        "***9. Discuss the functionality of the array_split() method in NumPy. How does it handle uneven splits?***"
      ],
      "metadata": {
        "id": "7XZR8jUSlJUs"
      }
    },
    {
      "cell_type": "markdown",
      "source": [
        "Ans. The array_split() method in NumPy splits an array into multiple sub-arrays along a specified axis. It is useful for dividing data into smaller chunks for processing or analysis.\n",
        "\n",
        "Functionality:\n",
        "\n",
        "- Splits an array into n sub-arrays along the specified axis.\n",
        "- Returns a list of sub-arrays.\n",
        "\n",
        "Syntax:\n",
        "\n",
        "numpy.array_split(ary, n, axis=0)\n",
        "\n",
        "Parameters:\n",
        "\n",
        "- ary: Input array.\n",
        "- n: Number of sub-arrays to split into.\n",
        "- axis: Axis along which to split (default=0).\n",
        "\n",
        "Handling Uneven Splits:\n",
        "\n",
        "When the array length is not exactly divisible by n, array_split() distributes the remaining elements as evenly as possible among the sub-arrays.\n",
        "\n",
        "Example:\n"
      ],
      "metadata": {
        "id": "c8Fif60QlYf0"
      }
    },
    {
      "cell_type": "code",
      "source": [
        "arr = np.arange(10)\n",
        "arr\n"
      ],
      "metadata": {
        "colab": {
          "base_uri": "https://localhost:8080/"
        },
        "id": "OfXWBVfUlD-6",
        "outputId": "8e27aa59-44d0-4a79-cdc9-0ce7b7c9197d"
      },
      "execution_count": null,
      "outputs": [
        {
          "output_type": "execute_result",
          "data": {
            "text/plain": [
              "array([0, 1, 2, 3, 4, 5, 6, 7, 8, 9])"
            ]
          },
          "metadata": {},
          "execution_count": 33
        }
      ]
    },
    {
      "cell_type": "code",
      "source": [
        "np.array_split(arr, 3, 0)\n"
      ],
      "metadata": {
        "colab": {
          "base_uri": "https://localhost:8080/"
        },
        "id": "NnCd-wSAlmG1",
        "outputId": "6754c4af-113b-456d-ecac-f97cf41162ec"
      },
      "execution_count": null,
      "outputs": [
        {
          "output_type": "execute_result",
          "data": {
            "text/plain": [
              "[array([0, 1, 2, 3]), array([4, 5, 6]), array([7, 8, 9])]"
            ]
          },
          "metadata": {},
          "execution_count": 37
        }
      ]
    },
    {
      "cell_type": "markdown",
      "source": [
        "***10. Explain the concepts of vectorization and broadcasting in NumPy. How do they contribute to efficient array\n",
        "operations?***"
      ],
      "metadata": {
        "id": "cPqWUpNVmBnf"
      }
    },
    {
      "cell_type": "markdown",
      "source": [
        "Ans. Vectorization and broadcasting are fundamental concepts in NumPy that enable efficient array operations.\n",
        "\n",
        "Vectorization:\n",
        "\n",
        "Vectorization refers to the ability to perform operations on entire arrays at once, without the need for explicit loops. NumPy's vectorized operations apply the operation element-wise to each element in the array.\n",
        "\n",
        "Example:\n"
      ],
      "metadata": {
        "id": "blg3915wmGVV"
      }
    },
    {
      "cell_type": "code",
      "source": [
        "arr = np.array([1, 2, 3, 4, 5])\n",
        "arr * 2\n"
      ],
      "metadata": {
        "colab": {
          "base_uri": "https://localhost:8080/"
        },
        "id": "4OSjFGXClse6",
        "outputId": "44e5f62f-39f3-45eb-dd0b-e25d0d1383c6"
      },
      "execution_count": null,
      "outputs": [
        {
          "output_type": "execute_result",
          "data": {
            "text/plain": [
              "array([ 2,  4,  6,  8, 10])"
            ]
          },
          "metadata": {},
          "execution_count": 38
        }
      ]
    },
    {
      "cell_type": "markdown",
      "source": [
        "Broadcasting:\n",
        "\n",
        "Broadcasting allows NumPy to perform operations on arrays with different shapes and sizes by aligning and replicating elements as needed.\n",
        "\n",
        "Example:\n"
      ],
      "metadata": {
        "id": "QzdI9GvFmVcv"
      }
    },
    {
      "cell_type": "code",
      "source": [
        "arr1 = np.array([1, 2, 3])\n",
        "arr2 = np.array([4, 5, 6])\n",
        "\n",
        "arr1 + arr2\n"
      ],
      "metadata": {
        "colab": {
          "base_uri": "https://localhost:8080/"
        },
        "id": "aGz_QjB0mUMR",
        "outputId": "7497f288-701b-410d-db1f-ff1bf105c116"
      },
      "execution_count": null,
      "outputs": [
        {
          "output_type": "execute_result",
          "data": {
            "text/plain": [
              "array([5, 7, 9])"
            ]
          },
          "metadata": {},
          "execution_count": 39
        }
      ]
    },
    {
      "cell_type": "markdown",
      "source": [
        "# Practical Questions"
      ],
      "metadata": {
        "id": "SFfPkCItnYsT"
      }
    },
    {
      "cell_type": "markdown",
      "source": [
        "***1. Create a 3x3 NumPy array with random integers between 1 and 100. Then, interchange its rows and columns.***"
      ],
      "metadata": {
        "id": "oN8LfxS-oa41"
      }
    },
    {
      "cell_type": "code",
      "source": [
        "np.random.randint(1,100,(3,3))"
      ],
      "metadata": {
        "colab": {
          "base_uri": "https://localhost:8080/"
        },
        "id": "MfPwDQAwmmRX",
        "outputId": "8d81c73e-08b8-47a8-c86a-277e0412bae5"
      },
      "execution_count": null,
      "outputs": [
        {
          "output_type": "execute_result",
          "data": {
            "text/plain": [
              "array([[81, 88, 54],\n",
              "       [58, 68, 45],\n",
              "       [11,  6,  5]])"
            ]
          },
          "metadata": {},
          "execution_count": 45
        }
      ]
    },
    {
      "cell_type": "markdown",
      "source": [
        "***2. Generate a 1D NumPy array with 10 elements. Reshape it into a 2x5 array, then into a 5x2 array***"
      ],
      "metadata": {
        "id": "IJ-I0JVopHV0"
      }
    },
    {
      "cell_type": "code",
      "source": [
        "arr_1d = np.arange(10)\n",
        "arr_1d"
      ],
      "metadata": {
        "colab": {
          "base_uri": "https://localhost:8080/"
        },
        "id": "lwRr2pNBouQ7",
        "outputId": "e2e100ef-6d08-4639-d656-50cbca1d29ea"
      },
      "execution_count": null,
      "outputs": [
        {
          "output_type": "execute_result",
          "data": {
            "text/plain": [
              "array([0, 1, 2, 3, 4, 5, 6, 7, 8, 9])"
            ]
          },
          "metadata": {},
          "execution_count": 50
        }
      ]
    },
    {
      "cell_type": "code",
      "source": [
        "arr_1d.reshape(2, 5)"
      ],
      "metadata": {
        "colab": {
          "base_uri": "https://localhost:8080/"
        },
        "id": "4VtMvEwIpd3o",
        "outputId": "75d87586-dc70-46cc-da44-1e91e072eda3"
      },
      "execution_count": null,
      "outputs": [
        {
          "output_type": "execute_result",
          "data": {
            "text/plain": [
              "array([[0, 1, 2, 3, 4],\n",
              "       [5, 6, 7, 8, 9]])"
            ]
          },
          "metadata": {},
          "execution_count": 51
        }
      ]
    },
    {
      "cell_type": "code",
      "source": [
        "arr_1d.reshape(5, 2)"
      ],
      "metadata": {
        "colab": {
          "base_uri": "https://localhost:8080/"
        },
        "id": "OirZyj20qND1",
        "outputId": "9a2b6d25-1c9b-4d93-d787-a87b6dada4d6"
      },
      "execution_count": null,
      "outputs": [
        {
          "output_type": "execute_result",
          "data": {
            "text/plain": [
              "array([[0, 1],\n",
              "       [2, 3],\n",
              "       [4, 5],\n",
              "       [6, 7],\n",
              "       [8, 9]])"
            ]
          },
          "metadata": {},
          "execution_count": 52
        }
      ]
    },
    {
      "cell_type": "markdown",
      "source": [
        "***3. Create a 4x4 NumPy array with random float values. Add a border of zeros around it, resulting in a 6x6 array.***"
      ],
      "metadata": {
        "id": "Zh_U14v6rMgw"
      }
    },
    {
      "cell_type": "code",
      "source": [
        "import numpy as np\n",
        "a = np.random.rand(4,4)\n",
        "a"
      ],
      "metadata": {
        "colab": {
          "base_uri": "https://localhost:8080/"
        },
        "id": "-IwZVdF6rOUk",
        "outputId": "dddaa1aa-b3a2-467e-c894-6eb8aaf2f5d7"
      },
      "execution_count": 2,
      "outputs": [
        {
          "output_type": "execute_result",
          "data": {
            "text/plain": [
              "array([[0.98904276, 0.01920014, 0.41593664, 0.66190187],\n",
              "       [0.70200219, 0.68582135, 0.83008636, 0.86954904],\n",
              "       [0.59700943, 0.38416112, 0.52458931, 0.85298381],\n",
              "       [0.29455209, 0.74469472, 0.5419317 , 0.76281705]])"
            ]
          },
          "metadata": {},
          "execution_count": 2
        }
      ]
    },
    {
      "cell_type": "code",
      "source": [
        "b = np.zeros((6,6))\n",
        "b"
      ],
      "metadata": {
        "colab": {
          "base_uri": "https://localhost:8080/"
        },
        "id": "9m6CfuFyss6r",
        "outputId": "5aa19acb-b992-4cf4-a213-52815e46560b"
      },
      "execution_count": 3,
      "outputs": [
        {
          "output_type": "execute_result",
          "data": {
            "text/plain": [
              "array([[0., 0., 0., 0., 0., 0.],\n",
              "       [0., 0., 0., 0., 0., 0.],\n",
              "       [0., 0., 0., 0., 0., 0.],\n",
              "       [0., 0., 0., 0., 0., 0.],\n",
              "       [0., 0., 0., 0., 0., 0.],\n",
              "       [0., 0., 0., 0., 0., 0.]])"
            ]
          },
          "metadata": {},
          "execution_count": 3
        }
      ]
    },
    {
      "cell_type": "code",
      "source": [
        "b[1:-1,1:-1] = a\n",
        "b"
      ],
      "metadata": {
        "colab": {
          "base_uri": "https://localhost:8080/"
        },
        "id": "5EIAiaCBtT_m",
        "outputId": "e8b93a9a-b695-4af9-c997-3e8da36cc9de"
      },
      "execution_count": 5,
      "outputs": [
        {
          "output_type": "execute_result",
          "data": {
            "text/plain": [
              "array([[0.        , 0.        , 0.        , 0.        , 0.        ,\n",
              "        0.        ],\n",
              "       [0.        , 0.98904276, 0.01920014, 0.41593664, 0.66190187,\n",
              "        0.        ],\n",
              "       [0.        , 0.70200219, 0.68582135, 0.83008636, 0.86954904,\n",
              "        0.        ],\n",
              "       [0.        , 0.59700943, 0.38416112, 0.52458931, 0.85298381,\n",
              "        0.        ],\n",
              "       [0.        , 0.29455209, 0.74469472, 0.5419317 , 0.76281705,\n",
              "        0.        ],\n",
              "       [0.        , 0.        , 0.        , 0.        , 0.        ,\n",
              "        0.        ]])"
            ]
          },
          "metadata": {},
          "execution_count": 5
        }
      ]
    },
    {
      "cell_type": "markdown",
      "source": [
        "***4. Using NumPy, create an array of integers from 10 to 60 with a step of 5.***"
      ],
      "metadata": {
        "id": "vpSh-cUKuYo8"
      }
    },
    {
      "cell_type": "code",
      "source": [
        "np.arange(10,60,5)"
      ],
      "metadata": {
        "colab": {
          "base_uri": "https://localhost:8080/"
        },
        "id": "fPfq60kGtoic",
        "outputId": "cd553771-095c-4510-8213-6dc46f6d6434"
      },
      "execution_count": 6,
      "outputs": [
        {
          "output_type": "execute_result",
          "data": {
            "text/plain": [
              "array([10, 15, 20, 25, 30, 35, 40, 45, 50, 55])"
            ]
          },
          "metadata": {},
          "execution_count": 6
        }
      ]
    },
    {
      "cell_type": "markdown",
      "source": [
        "***5. Create a NumPy array of strings ['python', 'numpy', 'pandas']. Apply different case transformations\n",
        "(uppercase, lowercase, title case, etc.) to each element***"
      ],
      "metadata": {
        "id": "Njlfjt_nuntO"
      }
    },
    {
      "cell_type": "code",
      "source": [
        "a = np.array(['python', 'numpy', 'pandas'])\n",
        "a"
      ],
      "metadata": {
        "colab": {
          "base_uri": "https://localhost:8080/"
        },
        "id": "SA-2MHT3ugja",
        "outputId": "1b41786b-8300-49e3-e77a-80f8195cf7ec"
      },
      "execution_count": 7,
      "outputs": [
        {
          "output_type": "execute_result",
          "data": {
            "text/plain": [
              "array(['python', 'numpy', 'pandas'], dtype='<U6')"
            ]
          },
          "metadata": {},
          "execution_count": 7
        }
      ]
    },
    {
      "cell_type": "code",
      "source": [
        "b= np.char.upper(a)\n",
        "b"
      ],
      "metadata": {
        "colab": {
          "base_uri": "https://localhost:8080/"
        },
        "id": "7_q27Mp2usvi",
        "outputId": "5947a404-7f02-47b6-e1b1-3132dd2f10d4"
      },
      "execution_count": 11,
      "outputs": [
        {
          "output_type": "execute_result",
          "data": {
            "text/plain": [
              "array(['PYTHON', 'NUMPY', 'PANDAS'], dtype='<U6')"
            ]
          },
          "metadata": {},
          "execution_count": 11
        }
      ]
    },
    {
      "cell_type": "code",
      "source": [
        "np.char.lower(b)"
      ],
      "metadata": {
        "colab": {
          "base_uri": "https://localhost:8080/"
        },
        "id": "uqeE0iIxu1RN",
        "outputId": "29be9faf-c8cc-44a4-c29e-f2d6d9e83668"
      },
      "execution_count": 12,
      "outputs": [
        {
          "output_type": "execute_result",
          "data": {
            "text/plain": [
              "array(['python', 'numpy', 'pandas'], dtype='<U6')"
            ]
          },
          "metadata": {},
          "execution_count": 12
        }
      ]
    },
    {
      "cell_type": "code",
      "source": [
        "np.char.title(a)"
      ],
      "metadata": {
        "colab": {
          "base_uri": "https://localhost:8080/"
        },
        "id": "b3_9jyEOvFT_",
        "outputId": "0431de99-d41e-4bb4-cc27-bc5cca501371"
      },
      "execution_count": 13,
      "outputs": [
        {
          "output_type": "execute_result",
          "data": {
            "text/plain": [
              "array(['Python', 'Numpy', 'Pandas'], dtype='<U6')"
            ]
          },
          "metadata": {},
          "execution_count": 13
        }
      ]
    },
    {
      "cell_type": "markdown",
      "source": [
        "***6. Generate a NumPy array of words. Insert a space between each character of every word in the array.***"
      ],
      "metadata": {
        "id": "um6WcqQ6vMDe"
      }
    },
    {
      "cell_type": "code",
      "source": [
        "a = np.array(['python', 'numpy', 'pandas'])\n",
        "a"
      ],
      "metadata": {
        "colab": {
          "base_uri": "https://localhost:8080/"
        },
        "id": "nySgJuH0vJ7K",
        "outputId": "c4c05575-7236-494d-decb-72ac846cd32a"
      },
      "execution_count": 14,
      "outputs": [
        {
          "output_type": "execute_result",
          "data": {
            "text/plain": [
              "array(['python', 'numpy', 'pandas'], dtype='<U6')"
            ]
          },
          "metadata": {},
          "execution_count": 14
        }
      ]
    },
    {
      "cell_type": "code",
      "source": [
        "np.char.join(' ', a)"
      ],
      "metadata": {
        "colab": {
          "base_uri": "https://localhost:8080/"
        },
        "id": "cKwU8GfsvV3J",
        "outputId": "34b169b7-c64a-4f89-c52c-7e9c8060adaa"
      },
      "execution_count": 15,
      "outputs": [
        {
          "output_type": "execute_result",
          "data": {
            "text/plain": [
              "array(['p y t h o n', 'n u m p y', 'p a n d a s'], dtype='<U11')"
            ]
          },
          "metadata": {},
          "execution_count": 15
        }
      ]
    },
    {
      "cell_type": "markdown",
      "source": [
        "***7. Create two 2D NumPy arrays and perform element-wise addition, subtraction, multiplication, and division***"
      ],
      "metadata": {
        "id": "XLyARUktvgNz"
      }
    },
    {
      "cell_type": "code",
      "source": [
        "arr = np.array([[1, 2, 3], [4, 5, 6], [7, 8, 9], [10, 11, 12]])\n",
        "arr"
      ],
      "metadata": {
        "colab": {
          "base_uri": "https://localhost:8080/"
        },
        "id": "8iqaKDjavZSr",
        "outputId": "8553bbc1-68c3-4410-ff08-9134fd9b1096"
      },
      "execution_count": 16,
      "outputs": [
        {
          "output_type": "execute_result",
          "data": {
            "text/plain": [
              "array([[ 1,  2,  3],\n",
              "       [ 4,  5,  6],\n",
              "       [ 7,  8,  9],\n",
              "       [10, 11, 12]])"
            ]
          },
          "metadata": {},
          "execution_count": 16
        }
      ]
    },
    {
      "cell_type": "code",
      "source": [
        "np.add(arr,2)"
      ],
      "metadata": {
        "colab": {
          "base_uri": "https://localhost:8080/"
        },
        "id": "bjE_K8q0vuyz",
        "outputId": "14facdeb-f280-4264-ab80-87ce02ad6b6f"
      },
      "execution_count": 17,
      "outputs": [
        {
          "output_type": "execute_result",
          "data": {
            "text/plain": [
              "array([[ 3,  4,  5],\n",
              "       [ 6,  7,  8],\n",
              "       [ 9, 10, 11],\n",
              "       [12, 13, 14]])"
            ]
          },
          "metadata": {},
          "execution_count": 17
        }
      ]
    },
    {
      "cell_type": "code",
      "source": [
        "np.subtract(arr,2)"
      ],
      "metadata": {
        "colab": {
          "base_uri": "https://localhost:8080/"
        },
        "id": "NovkZPsGvzIq",
        "outputId": "31666c0b-ec8f-49ba-b421-1cc8a93db699"
      },
      "execution_count": 19,
      "outputs": [
        {
          "output_type": "execute_result",
          "data": {
            "text/plain": [
              "array([[-1,  0,  1],\n",
              "       [ 2,  3,  4],\n",
              "       [ 5,  6,  7],\n",
              "       [ 8,  9, 10]])"
            ]
          },
          "metadata": {},
          "execution_count": 19
        }
      ]
    },
    {
      "cell_type": "code",
      "source": [
        "np.multiply(arr,2)"
      ],
      "metadata": {
        "colab": {
          "base_uri": "https://localhost:8080/"
        },
        "id": "zRjsudb5v1jg",
        "outputId": "eb5a29d1-ff05-40c7-e75b-b70a2d014010"
      },
      "execution_count": 20,
      "outputs": [
        {
          "output_type": "execute_result",
          "data": {
            "text/plain": [
              "array([[ 2,  4,  6],\n",
              "       [ 8, 10, 12],\n",
              "       [14, 16, 18],\n",
              "       [20, 22, 24]])"
            ]
          },
          "metadata": {},
          "execution_count": 20
        }
      ]
    },
    {
      "cell_type": "code",
      "source": [
        "np.divide(arr,2)"
      ],
      "metadata": {
        "colab": {
          "base_uri": "https://localhost:8080/"
        },
        "id": "VmjVp_fEv6H7",
        "outputId": "a330ea9b-975e-4ae2-baee-6509e32be748"
      },
      "execution_count": 21,
      "outputs": [
        {
          "output_type": "execute_result",
          "data": {
            "text/plain": [
              "array([[0.5, 1. , 1.5],\n",
              "       [2. , 2.5, 3. ],\n",
              "       [3.5, 4. , 4.5],\n",
              "       [5. , 5.5, 6. ]])"
            ]
          },
          "metadata": {},
          "execution_count": 21
        }
      ]
    },
    {
      "cell_type": "markdown",
      "source": [
        "***8. Use NumPy to create a 5x5 identity matrix, then extract its diagonal elements.***"
      ],
      "metadata": {
        "id": "FKaDevVCv_pn"
      }
    },
    {
      "cell_type": "code",
      "source": [
        "arr = np.eye(5)\n",
        "arr"
      ],
      "metadata": {
        "colab": {
          "base_uri": "https://localhost:8080/"
        },
        "id": "o_E4syscv9zk",
        "outputId": "3290aa27-6211-4dc4-d559-065cb9a95991"
      },
      "execution_count": 22,
      "outputs": [
        {
          "output_type": "execute_result",
          "data": {
            "text/plain": [
              "array([[1., 0., 0., 0., 0.],\n",
              "       [0., 1., 0., 0., 0.],\n",
              "       [0., 0., 1., 0., 0.],\n",
              "       [0., 0., 0., 1., 0.],\n",
              "       [0., 0., 0., 0., 1.]])"
            ]
          },
          "metadata": {},
          "execution_count": 22
        }
      ]
    },
    {
      "cell_type": "code",
      "source": [
        "np.diag(arr)"
      ],
      "metadata": {
        "colab": {
          "base_uri": "https://localhost:8080/"
        },
        "id": "Tlj00qWiwJJr",
        "outputId": "47ffc8be-bb3d-4ed5-c1fa-7a40076d8280"
      },
      "execution_count": 23,
      "outputs": [
        {
          "output_type": "execute_result",
          "data": {
            "text/plain": [
              "array([1., 1., 1., 1., 1.])"
            ]
          },
          "metadata": {},
          "execution_count": 23
        }
      ]
    },
    {
      "cell_type": "markdown",
      "source": [
        "***9. Generate a NumPy array of 100 random integers between 0 and 1000. Find and display all prime numbers in\n",
        "this array.***"
      ],
      "metadata": {
        "id": "1HiNnp1swV59"
      }
    },
    {
      "cell_type": "code",
      "source": [
        "import numpy as np\n",
        "arr = np.random.randint(0,1001,100)\n",
        "arr"
      ],
      "metadata": {
        "colab": {
          "base_uri": "https://localhost:8080/"
        },
        "id": "nX4oGFG2wOcC",
        "outputId": "757014fc-3cb5-4d16-eace-f6ff9603873e"
      },
      "execution_count": 2,
      "outputs": [
        {
          "output_type": "execute_result",
          "data": {
            "text/plain": [
              "array([830, 920, 974, 398, 901,  81, 832, 504, 579, 743, 616, 508, 307,\n",
              "       696, 512, 442, 180, 543, 994, 879, 512, 240, 188, 916, 434, 487,\n",
              "       743, 623, 575, 240,  89, 956, 428, 517,  45, 324, 116, 681, 719,\n",
              "       839, 744, 500, 735, 888, 175,  99, 119, 667, 692, 494, 732, 505,\n",
              "       395, 635, 814, 637, 900, 506, 458, 627, 227, 772, 516,  87, 967,\n",
              "       845, 251, 722, 406, 821, 908, 314, 932, 217, 834, 749, 872, 486,\n",
              "       176, 142, 326, 281, 243, 243, 869, 158, 520, 258, 490, 701, 808,\n",
              "       573, 927, 978, 830, 371, 436, 428, 100, 208])"
            ]
          },
          "metadata": {},
          "execution_count": 2
        }
      ]
    },
    {
      "cell_type": "code",
      "source": [
        "def is_prime(n):\n",
        "    if n <= 1:\n",
        "        return False\n",
        "    for i in range(2, n):\n",
        "        if n % i == 0:\n",
        "            return False\n",
        "    return True"
      ],
      "metadata": {
        "id": "TW8xmSAXwfVG"
      },
      "execution_count": 3,
      "outputs": []
    },
    {
      "cell_type": "code",
      "source": [
        "prime_numbers= arr[np.vectorize(is_prime)(arr)]\n",
        "print(prime_numbers)\n"
      ],
      "metadata": {
        "colab": {
          "base_uri": "https://localhost:8080/"
        },
        "id": "mOEcz0INIyew",
        "outputId": "9c5a1519-8972-47ad-c25d-29ad395e5eb9"
      },
      "execution_count": 6,
      "outputs": [
        {
          "output_type": "stream",
          "name": "stdout",
          "text": [
            "[743 307 487 743  89 719 839 227 967 251 821 281 701]\n"
          ]
        }
      ]
    },
    {
      "cell_type": "markdown",
      "source": [
        "***10. Create a NumPy array representing daily temperatures for a month. Calculate and display the weekly\n",
        "averages.***\n"
      ],
      "metadata": {
        "id": "jwWN81y0Jjpf"
      }
    },
    {
      "cell_type": "code",
      "source": [
        "daily_temperatures = np.random.uniform(20, 30, 30)\n",
        "daily_temperatures"
      ],
      "metadata": {
        "colab": {
          "base_uri": "https://localhost:8080/"
        },
        "id": "EbUmRj2QJKk6",
        "outputId": "b559c554-ba92-41dc-99a7-ccad3a22a19b"
      },
      "execution_count": 7,
      "outputs": [
        {
          "output_type": "execute_result",
          "data": {
            "text/plain": [
              "array([21.30295025, 25.56568001, 22.82386329, 28.58484279, 23.61152914,\n",
              "       25.7799817 , 25.24437269, 26.97223813, 27.05931022, 24.23764564,\n",
              "       25.44633647, 28.91942757, 26.05293104, 21.81918939, 28.84466695,\n",
              "       23.36927591, 27.52079072, 23.11861984, 28.18368298, 27.33455788,\n",
              "       21.61740242, 23.28909884, 29.87577659, 20.15384789, 20.33136186,\n",
              "       21.87282136, 28.02974023, 25.78670446, 29.55543478, 26.06548382])"
            ]
          },
          "metadata": {},
          "execution_count": 7
        }
      ]
    },
    {
      "cell_type": "code",
      "source": [
        "# Here i excluded last two days because python cannot reshape 30 to 7\n",
        "weekly_temperatures = daily_temperatures[:28].reshape(4, 7)\n",
        "weekly_temperatures"
      ],
      "metadata": {
        "colab": {
          "base_uri": "https://localhost:8080/"
        },
        "id": "bu1aH3zLKEE8",
        "outputId": "d44345b6-11da-4d64-c41d-34da9619135c"
      },
      "execution_count": 11,
      "outputs": [
        {
          "output_type": "execute_result",
          "data": {
            "text/plain": [
              "array([[21.30295025, 25.56568001, 22.82386329, 28.58484279, 23.61152914,\n",
              "        25.7799817 , 25.24437269],\n",
              "       [26.97223813, 27.05931022, 24.23764564, 25.44633647, 28.91942757,\n",
              "        26.05293104, 21.81918939],\n",
              "       [28.84466695, 23.36927591, 27.52079072, 23.11861984, 28.18368298,\n",
              "        27.33455788, 21.61740242],\n",
              "       [23.28909884, 29.87577659, 20.15384789, 20.33136186, 21.87282136,\n",
              "        28.02974023, 25.78670446]])"
            ]
          },
          "metadata": {},
          "execution_count": 11
        }
      ]
    },
    {
      "cell_type": "code",
      "source": [
        "last_two_days = daily_temperatures[28:]\n",
        "last_two_days"
      ],
      "metadata": {
        "colab": {
          "base_uri": "https://localhost:8080/"
        },
        "id": "QFz57hbsKTKv",
        "outputId": "cd74f7c7-caa2-44e5-983d-c7347d29835a"
      },
      "execution_count": 12,
      "outputs": [
        {
          "output_type": "execute_result",
          "data": {
            "text/plain": [
              "array([29.55543478, 26.06548382])"
            ]
          },
          "metadata": {},
          "execution_count": 12
        }
      ]
    },
    {
      "cell_type": "code",
      "source": [
        "weekly_averages = np.mean(weekly_temperatures, axis=1)\n",
        "print(weekly_averages)"
      ],
      "metadata": {
        "colab": {
          "base_uri": "https://localhost:8080/"
        },
        "id": "MSDdn3hSMCNR",
        "outputId": "a1bbc854-2cff-4f6d-f720-5fb6b2564f9d"
      },
      "execution_count": 15,
      "outputs": [
        {
          "output_type": "stream",
          "name": "stdout",
          "text": [
            "[24.70188855 25.78672549 25.71271381 24.19133589]\n"
          ]
        }
      ]
    },
    {
      "cell_type": "code",
      "source": [],
      "metadata": {
        "id": "jRKU5oyPMJD2"
      },
      "execution_count": null,
      "outputs": []
    }
  ]
}